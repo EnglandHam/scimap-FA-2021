{
 "cells": [
  {
   "cell_type": "code",
   "execution_count": 2,
   "metadata": {},
   "outputs": [
    {
     "name": "stdout",
     "output_type": "stream",
     "text": [
      "Collecting tomotopy\n",
      "  Downloading tomotopy-0.12.2-cp37-cp37m-win_amd64.whl (5.4 MB)\n",
      "Requirement already satisfied: numpy>=1.11.0 in c:\\users\\amcga\\envs\\citation-deaths\\lib\\site-packages (from tomotopy) (1.20.3)\n",
      "Installing collected packages: tomotopy\n",
      "Successfully installed tomotopy-0.12.2\n",
      "Note: you may need to restart the kernel to use updated packages.\n"
     ]
    },
    {
     "name": "stderr",
     "output_type": "stream",
     "text": [
      "WARNING: You are using pip version 21.0.1; however, version 21.3.1 is available.\n",
      "You should consider upgrading via the 'c:\\users\\amcga\\envs\\citation-deaths\\scripts\\python.exe -m pip install --upgrade pip' command.\n"
     ]
    }
   ],
   "source": [
    "%pip install tomotopy"
   ]
  },
  {
   "cell_type": "code",
   "execution_count": 3,
   "metadata": {},
   "outputs": [],
   "source": [
    "import sys\n",
    "import tomotopy as tp"
   ]
  },
  {
   "cell_type": "code",
   "execution_count": 14,
   "metadata": {},
   "outputs": [],
   "source": [
    "mdl = tp.LDAModel(tw=tp.TermWeight.ONE, min_cf=3, rm_top=5, k=100)\n",
    "for n, line in enumerate(open('export_dataframe.csv', encoding='utf-8')):\n",
    "    if n == 0:\n",
    "        continue\n",
    "        \n",
    "    title = line.split(\",\")[-1]\n",
    "    ch = title.lower().strip().split()\n",
    "    mdl.add_doc(ch)\n",
    "                \n",
    "mdl.burn_in = 100\n",
    "mdl.train(0)"
   ]
  },
  {
   "cell_type": "code",
   "execution_count": null,
   "metadata": {},
   "outputs": [],
   "source": [
    "lls = []\n",
    "\n",
    "for i in range(0, 100, 10):\n",
    "    mdl.train(10)\n",
    "    #print('Iteration: {}\\tLog-likelihood: {}'.format(i, mdl.ll_per_word))\n",
    "    lls.append(mdl.ll_per_word)"
   ]
  },
  {
   "cell_type": "code",
   "execution_count": 16,
   "metadata": {},
   "outputs": [],
   "source": [
    "from matplotlib import pyplot as plt"
   ]
  },
  {
   "cell_type": "code",
   "execution_count": 17,
   "metadata": {},
   "outputs": [
    {
     "data": {
      "text/plain": [
       "[<matplotlib.lines.Line2D at 0x2aae5eea348>]"
      ]
     },
     "execution_count": 17,
     "metadata": {},
     "output_type": "execute_result"
    },
    {
     "data": {
      "image/png": "[encoded data removed]",
      "text/plain": [
       "<Figure size 432x288 with 1 Axes>"
      ]
     },
     "metadata": {
      "needs_background": "light"
     },
     "output_type": "display_data"
    }
   ],
   "source": [
    "plt.plot(lls)"
   ]
  },
  {
   "cell_type": "code",
   "execution_count": 18,
   "metadata": {},
   "outputs": [],
   "source": [
    "for i in range(0, 300, 10):\n",
    "    mdl.train(10)\n",
    "    #print('Iteration: {}\\tLog-likelihood: {}'.format(i, mdl.ll_per_word))\n",
    "    lls.append(mdl.ll_per_word)"
   ]
  },
  {
   "cell_type": "code",
   "execution_count": 19,
   "metadata": {},
   "outputs": [
    {
     "data": {
      "text/plain": [
       "[<matplotlib.lines.Line2D at 0x2aae82a2dc8>]"
      ]
     },
     "execution_count": 19,
     "metadata": {},
     "output_type": "execute_result"
    },
    {
     "data": {
      "image/png": "[encoded data removed]",
      "text/plain": [
       "<Figure size 432x288 with 1 Axes>"
      ]
     },
     "metadata": {
      "needs_background": "light"
     },
     "output_type": "display_data"
    }
   ],
   "source": [
    "plt.plot(lls)"
   ]
  },
  {
   "cell_type": "code",
   "execution_count": 20,
   "metadata": {},
   "outputs": [
    {
     "name": "stdout",
     "output_type": "stream",
     "text": [
      "<Basic Info>\n",
      "| LDAModel (current version: 0.12.2)\n",
      "| 138124 docs, 1108573 words\n",
      "| Total Vocabs: 136878, Used Vocabs: 16105\n",
      "| Entropy of words: 7.60191\n",
      "| Entropy of term-weighted words: 7.60191\n",
      "| Removed Vocabs: for of and in a\n",
      "|\n",
      "<Training Info>\n",
      "| Iterations: 200, Burn-in steps: 100\n",
      "| Optimization Interval: 10\n",
      "| Log-likelihood per word: -7.75634\n",
      "|\n",
      "<Initial Parameters>\n",
      "| tw: TermWeight.ONE\n",
      "| min_cf: 3 (minimum collection frequency of words)\n",
      "| min_df: 0 (minimum document frequency of words)\n",
      "| rm_top: 5 (the number of top words to be removed)\n",
      "| k: 100 (the number of topics between 1 ~ 32767)\n",
      "| alpha: [0.1] (hyperparameter of Dirichlet distribution for document-topic, given as a single `float` in case of symmetric prior and as a list with length `k` of `float` in case of asymmetric prior.)\n",
      "| eta: 0.01 (hyperparameter of Dirichlet distribution for topic-word)\n",
      "| seed: 2196609070 (random seed)\n",
      "| trained in version 0.12.2\n",
      "|\n",
      "<Parameters>\n",
      "| alpha (Dirichlet prior on the per-document topic distributions)\n",
      "|  [0.0116192  0.01071773 0.01027331 0.01016224 0.01349255 0.01333081\n",
      "|   0.0136783  0.01431928 0.01931784 0.010335   0.00801722 0.00942609\n",
      "|   0.01105316 0.00903371 0.00775855 0.01044877 0.01339963 0.00969368\n",
      "|   0.01273179 0.01645524 0.0092857  0.01431894 0.02424178 0.01614379\n",
      "|   0.01336723 0.01303068 0.0160817  0.01129859 0.01225046 0.01371903\n",
      "|   0.01045391 0.00934122 0.01035009 0.01137108 0.01045055 0.01172332\n",
      "|   0.00942994 0.01411682 0.01466286 0.0142736  0.01065308 0.01099938\n",
      "|   0.01144392 0.01284621 0.01327792 0.01462466 0.00825312 0.01527719\n",
      "|   0.00932814 0.02209736 0.01112346 0.01252364 0.01327006 0.01183852\n",
      "|   0.00742486 0.01533871 0.00927219 0.01073055 0.01431533 0.01545059\n",
      "|   0.00921111 0.01335614 0.01158733 0.01220783 0.01289751 0.01123432\n",
      "|   0.00852448 0.01757122 0.012337   0.01507233 0.01038588 0.00832645\n",
      "|   0.013278   0.01197187 0.01186875 0.01521719 0.01241518 0.01068227\n",
      "|   0.00924115 0.01736534 0.01238877 0.01460108 0.01241632 0.01934173\n",
      "|   0.0143741  0.01011705 0.01517075 0.01460345 0.00907268 0.01021344\n",
      "|   0.01977718 0.00887369 0.01738191 0.01220825 0.01048006 0.01462534\n",
      "|   0.01100483 0.01927284 0.01322428 0.00903712]\n",
      "| eta (Dirichlet prior on the per-topic word distribution)\n",
      "|  0.01\n",
      "|\n",
      "<Topics>\n",
      "| #0 (9921) : based localization indoor using light\n",
      "| #1 (8919) : computer interface human brain based\n",
      "| #2 (9767) : hand on based gesture with\n",
      "| #3 (12065) : 802 ieee wireless 11 networks\n",
      "| #4 (12336) : social online media the information\n",
      "| #5 (11928) : on matrix processing gpu parallel\n",
      "| #6 (13974) : cognitive radio networks spectrum sensing\n",
      "| #7 (12770) : virtual reality games the game\n",
      "| #8 (14966) : study an case the on\n",
      "| #9 (8758) : machine translation learning to based\n",
      "| #10 (8280) : device networks to communications communication\n",
      "| #11 (6892) : optimization particle swarm self using\n",
      "| #12 (10060) : monitoring system smart the home\n",
      "| #13 (10947) : cmos with power low spl\n",
      "| #14 (4929) : full duplex the self product\n",
      "| #15 (6919) : high speed performance level fine\n",
      "| #16 (10358) : based algorithm on using clustering\n",
      "| #17 (7560) : channel estimation ofdm systems information\n",
      "| #18 (9141) : to approach peer detection based\n",
      "| #19 (12675) : learning deep with reinforcement via\n",
      "| #20 (6871) : the base on challenge at\n",
      "| #21 (10701) : to learning approach from data\n",
      "| #22 (21295) : neural networks network deep convolutional\n",
      "| #23 (14666) : recognition face facial based using\n",
      "| #24 (14555) : channels systems fading frequency time\n",
      "| #25 (10350) : simulation code source modeling the\n",
      "| #26 (15921) : optimization Evolutionary evolutionary multi objective\n",
      "| #27 (9052) : load cloud data network balancing\n",
      "| #28 (12923) : wave channel millimeter ghz radio\n",
      "| #29 (12242) : robot human robots mobile using\n",
      "| #30 (9455) : word sense using text semantic\n",
      "| #31 (6899) : random sensing using fields field\n",
      "| #32 (8398) : using automatic from analysis extraction\n",
      "| #33 (8969) : attacks game security against theoretic\n",
      "| #34 (7072) : based model with loop on\n",
      "| #35 (11184) : mobile on interaction devices touch\n",
      "| #36 (6622) : non state with model using\n",
      "| #37 (13428) : networks routing optical with network\n",
      "| #38 (12321) : language spoken natural model models\n",
      "| #39 (14942) : relay with networks two wireless\n",
      "| #40 (8259) : identification person tracking re using\n",
      "| #41 (8377) : the web search between on\n",
      "| #42 (8874) : generation fault tolerant based efficient\n",
      "| #43 (9544) : temporal model gaussian using models\n",
      "| #44 (11443) : planning with robot control multi\n",
      "| #45 (11894) : design system synthesis based software\n",
      "| #46 (7078) : end to using from the\n",
      "| #47 (13076) : detection object based using tracking\n",
      "| #48 (7443) : the to information on public\n",
      "| #49 (19575) : learning multi supervised image with\n",
      "| #50 (8982) : control systems time distributed with\n",
      "| #51 (10179) : recognition models using markov model\n",
      "| #52 (11384) : knowledge visual from question semantic\n",
      "| #53 (9162) : the from information user data\n",
      "| #54 (7822) : power with dc to converter\n",
      "| #55 (13730) : the software design research engineering\n",
      "| #56 (6723) : speaker verification using identification recognition\n",
      "| #57 (9073) : with constraints under rate scheduling\n",
      "| #58 (13184) : image based using segmentation retrieval\n",
      "| #59 (16258) : allocation networks resource power systems\n",
      "| #60 (7425) : codes decoding using low error\n",
      "| #61 (10315) : search using with order matching\n",
      "| #62 (9917) : service based services web management\n",
      "| #63 (9671) : an the user interactive evaluation\n",
      "| #64 (10201) : tracking using eye visual based\n",
      "| #65 (9098) : based image on watermarking compression\n",
      "| #66 (5422) : decision context with n prediction\n",
      "| #67 (12842) : the on performance impact effects\n",
      "| #68 (9011) : large scale data analysis systems\n",
      "| #69 (12922) : video from detection using segmentation\n",
      "| #70 (7184) : the test improving by performance\n",
      "| #71 (9413) : with s long cmos term\n",
      "| #72 (12561) : video streaming over networks wireless\n",
      "| #73 (9922) : programming genetic problem the Evolutionary\n",
      "| #74 (8894) : model the driven simulation based\n",
      "| #75 (16881) : networks lte cell cellular interference\n",
      "| #76 (12866) : with to the design children\n",
      "| #77 (8496) : low power filter ultra using\n",
      "| #78 (7898) : vector using support classification machines\n",
      "| #79 (17724) : networks sensor wireless data routing\n",
      "| #80 (13178) : mimo systems with massive multi\n",
      "| #81 (12625) : mobile cloud privacy computing data\n",
      "| #82 (10590) : image resolution using super high\n",
      "| #83 (19472) : on Distributed Performance performance parallel\n",
      "| #84 (10229) : time real based system world\n",
      "| #85 (17526) : cmos with 2 s 1\n",
      "| #86 (17189) : networks ad hoc routing mobile\n",
      "| #87 (14442) : speech based using source on\n",
      "| #88 (7319) : quality assessment image based using\n",
      "| #89 (7940) : the an system internet things\n",
      "| #90 (18836) : 3d from estimation depth using\n",
      "| #91 (7179) : the with design through computing\n",
      "| #92 (18532) : to the is how it\n",
      "| #93 (10804) : control model vehicle based predictive\n",
      "| #94 (7962) : with networks network delay coding\n",
      "| #95 (13640) : energy networks wireless efficient sensor\n",
      "| #96 (12266) : video coding h 264 motion\n",
      "| #97 (20138) : speech recognition based using language\n",
      "| #98 (9198) : to application its the an\n",
      "| #99 (7754) : memory i o systems with\n",
      "|\n",
      "\n"
     ]
    }
   ],
   "source": [
    "mdl.summary()"
   ]
  },
  {
   "cell_type": "code",
   "execution_count": 21,
   "metadata": {},
   "outputs": [],
   "source": [
    "mdl.save('lda1.bin', True)"
   ]
  },
  {
   "cell_type": "code",
   "execution_count": null,
   "metadata": {},
   "outputs": [],
   "source": []
  }
 ],
 "metadata": {
  "kernelspec": {
   "display_name": "Python 3",
   "language": "python",
   "name": "python3"
  },
  "language_info": {
   "codemirror_mode": {
    "name": "ipython",
    "version": 3
   },
   "file_extension": ".py",
   "mimetype": "text/x-python",
   "name": "python",
   "nbconvert_exporter": "python",
   "pygments_lexer": "ipython3",
   "version": "3.7.5"
  }
 },
 "nbformat": 4,
 "nbformat_minor": 4
}
